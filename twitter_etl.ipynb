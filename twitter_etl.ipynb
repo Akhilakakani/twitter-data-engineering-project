{
 "cells": [
  {
   "cell_type": "code",
   "execution_count": 1,
   "id": "7d151e51-ccc1-4e12-81fe-f90608cd32dd",
   "metadata": {},
   "outputs": [],
   "source": [
    "import pandas as pd"
   ]
  },
  {
   "cell_type": "code",
   "execution_count": 5,
   "id": "bc7a4230-4830-4a9c-aac8-93a48d7714ed",
   "metadata": {},
    }
   ],
   "source": [
    "!pip install s3fs"
   ]
  },
  {
   "cell_type": "code",
   "execution_count": 7,
   "id": "3a302662-64fb-45d6-8dc2-c347abdd7a3e",
   "metadata": {}
   "source": [
    "!pip install tweepy"
   ]
  },
  {
   "cell_type": "code",
   "execution_count": 11,
   "id": "f9819b3a-6ca2-45d3-9dd7-878c0090fa89",
   "metadata": {},
   "outputs": [],
   "source": [
    "import tweepy\n",
    "import json\n",
    "import s3fs\n",
    "from datetime import datetime"
   ]
  },
  {
   "cell_type": "code",
   "execution_count": 77,
   "id": "d27d40ce-2023-4362-bee5-4e68b3650418",
   "metadata": {},
   "outputs": [],
   "source": [
    "bearer_token = \" ",
    "client = tweepy.Client(bearer_token=bearer_token)\n",
    "user_resp = client.get_user(username=\"elonmusk\")\n",
    "user_id = user.data.id\n",
    "tweets_resp = client.get_users_tweets(id=user_id, max_results=10, tweet_fields=[\"created_at\", \"public_metrics\"])\n",
    "\n",
    "tweet_list = []\n",
    "for tweet in tweets_resp.data:\n",
    "    metrics = tweet.public_metrics\n",
    "    refined_tweet={\"user\":user_resp.data.username, 'text':tweet.text,\n",
    "                   'favorite_count':metrics[\"like_count\"],\n",
    "                   'retweet_count':metrics[\"retweet_count\"],\n",
    "                   'created_at':tweet.created_at}\n",
    "    tweet_list.append(refined_tweet)\n",
    "\n",
    "df = pd.DataFrame(tweet_list)\n",
    "df.to_csv(\"elonmusk_twitter_data.csv\")"
   ]
  },
  {
   "cell_type": "code",
   "execution_count": null,
   "id": "396ad952-404e-4f6a-a8ab-334f7c132370",
   "metadata": {},
   "outputs": [],
   "source": []
  }

 "metadata": {
  "kernelspec": {
   "display_name": "Python [conda env:base] *",
   "language": "python",
   "name": "conda-base-py"
  },
  "language_info": {
   "codemirror_mode": {
    "name": "ipython",
    "version": 3
   },
   "file_extension": ".py",
   "mimetype": "text/x-python",
   "name": "python",
   "nbconvert_exporter": "python",
   "pygments_lexer": "ipython3",
   "version": "3.12.7"
  }
 },
 "nbformat": 4,
 "nbformat_minor": 5
